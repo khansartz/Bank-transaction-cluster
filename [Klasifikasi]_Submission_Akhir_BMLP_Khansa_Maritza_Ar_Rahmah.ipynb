{
  "nbformat": 4,
  "nbformat_minor": 0,
  "metadata": {
    "colab": {
      "provenance": [],
      "include_colab_link": true
    },
    "kernelspec": {
      "name": "python3",
      "display_name": "Python 3"
    },
    "language_info": {
      "name": "python"
    }
  },
  "cells": [
    {
      "cell_type": "markdown",
      "metadata": {
        "id": "view-in-github",
        "colab_type": "text"
      },
      "source": [
        "<a href=\"https://colab.research.google.com/github/khansartz/Bank-transaction-cluster/blob/main/%5BKlasifikasi%5D_Submission_Akhir_BMLP_Khansa_Maritza_Ar_Rahmah.ipynb\" target=\"_parent\"><img src=\"https://colab.research.google.com/assets/colab-badge.svg\" alt=\"Open In Colab\"/></a>"
      ]
    },
    {
      "cell_type": "markdown",
      "source": [
        "# **1. Import Library**"
      ],
      "metadata": {
        "id": "fKADPWcFKlj3"
      }
    },
    {
      "cell_type": "markdown",
      "source": [
        "Pada tahap ini, Anda perlu mengimpor beberapa pustaka (library) Python yang dibutuhkan untuk analisis data dan pembangunan model machine learning."
      ],
      "metadata": {
        "id": "LgA3ERnVn84N"
      }
    },
    {
      "cell_type": "code",
      "source": [
        "import pandas as pd\n",
        "import numpy as np\n",
        "import seaborn as sns\n",
        "import matplotlib.pyplot as plt\n",
        "import time\n",
        "from tabulate import tabulate\n",
        "from sklearn.svm import SVC\n",
        "from sklearn.model_selection import GridSearchCV\n",
        "from sklearn.model_selection import RandomizedSearchCV\n",
        "from sklearn.metrics import confusion_matrix\n",
        "from sklearn.metrics import classification_report\n",
        "from sklearn.model_selection import train_test_split\n",
        "from sklearn.preprocessing import LabelEncoder\n",
        "from sklearn.neighbors import KNeighborsClassifier\n",
        "from sklearn.tree import DecisionTreeClassifier\n",
        "from sklearn.ensemble import RandomForestClassifier\n",
        "from sklearn.naive_bayes import GaussianNB\n",
        "from sklearn.metrics import accuracy_score, classification_report\n",
        "from sklearn.metrics import classification_report, confusion_matrix, accuracy_score, precision_score, recall_score, f1_score"
      ],
      "metadata": {
        "id": "BlmvjLY9M4Yj"
      },
      "execution_count": 1,
      "outputs": []
    },
    {
      "cell_type": "markdown",
      "source": [
        "# **2. Memuat Dataset dari Hasil Clustering**"
      ],
      "metadata": {
        "id": "f3YIEnAFKrKL"
      }
    },
    {
      "cell_type": "markdown",
      "source": [
        "Memuat dataset hasil clustering dari file CSV ke dalam variabel DataFrame."
      ],
      "metadata": {
        "id": "Ey3ItwTen_7E"
      }
    },
    {
      "cell_type": "code",
      "source": [
        "df = pd.read_csv('hasil_clustering.csv')\n",
        "df.head()"
      ],
      "metadata": {
        "id": "GHCGNTyrM5fS",
        "colab": {
          "base_uri": "https://localhost:8080/",
          "height": 226
        },
        "outputId": "86d39ec7-e4c2-47ac-af75-0a5592fe9505"
      },
      "execution_count": 2,
      "outputs": [
        {
          "output_type": "execute_result",
          "data": {
            "text/plain": [
              "   TransactionAmount  CustomerAge  TransactionDuration  AccountBalance  \\\n",
              "0          -1.074361     1.423718            -0.552443       -0.000537   \n",
              "1           0.362645     1.311287             0.305314        2.216472   \n",
              "2          -0.629153    -1.443277            -0.909842       -1.023534   \n",
              "3          -0.398176    -1.049768            -1.353017        0.885797   \n",
              "4          -1.076900    -1.049768             1.120184        0.593589   \n",
              "\n",
              "  TransactionType Channel CustomerOccupation  Cluster  \n",
              "0           Debit     ATM             Doctor        2  \n",
              "1           Debit     ATM             Doctor        2  \n",
              "2           Debit  Online            Student        1  \n",
              "3           Debit  Online            Student        0  \n",
              "4          Credit  Online            Student        1  "
            ],
            "text/html": [
              "\n",
              "  <div id=\"df-98cd6ee1-0cb6-49c7-b318-a04c6ec0909b\" class=\"colab-df-container\">\n",
              "    <div>\n",
              "<style scoped>\n",
              "    .dataframe tbody tr th:only-of-type {\n",
              "        vertical-align: middle;\n",
              "    }\n",
              "\n",
              "    .dataframe tbody tr th {\n",
              "        vertical-align: top;\n",
              "    }\n",
              "\n",
              "    .dataframe thead th {\n",
              "        text-align: right;\n",
              "    }\n",
              "</style>\n",
              "<table border=\"1\" class=\"dataframe\">\n",
              "  <thead>\n",
              "    <tr style=\"text-align: right;\">\n",
              "      <th></th>\n",
              "      <th>TransactionAmount</th>\n",
              "      <th>CustomerAge</th>\n",
              "      <th>TransactionDuration</th>\n",
              "      <th>AccountBalance</th>\n",
              "      <th>TransactionType</th>\n",
              "      <th>Channel</th>\n",
              "      <th>CustomerOccupation</th>\n",
              "      <th>Cluster</th>\n",
              "    </tr>\n",
              "  </thead>\n",
              "  <tbody>\n",
              "    <tr>\n",
              "      <th>0</th>\n",
              "      <td>-1.074361</td>\n",
              "      <td>1.423718</td>\n",
              "      <td>-0.552443</td>\n",
              "      <td>-0.000537</td>\n",
              "      <td>Debit</td>\n",
              "      <td>ATM</td>\n",
              "      <td>Doctor</td>\n",
              "      <td>2</td>\n",
              "    </tr>\n",
              "    <tr>\n",
              "      <th>1</th>\n",
              "      <td>0.362645</td>\n",
              "      <td>1.311287</td>\n",
              "      <td>0.305314</td>\n",
              "      <td>2.216472</td>\n",
              "      <td>Debit</td>\n",
              "      <td>ATM</td>\n",
              "      <td>Doctor</td>\n",
              "      <td>2</td>\n",
              "    </tr>\n",
              "    <tr>\n",
              "      <th>2</th>\n",
              "      <td>-0.629153</td>\n",
              "      <td>-1.443277</td>\n",
              "      <td>-0.909842</td>\n",
              "      <td>-1.023534</td>\n",
              "      <td>Debit</td>\n",
              "      <td>Online</td>\n",
              "      <td>Student</td>\n",
              "      <td>1</td>\n",
              "    </tr>\n",
              "    <tr>\n",
              "      <th>3</th>\n",
              "      <td>-0.398176</td>\n",
              "      <td>-1.049768</td>\n",
              "      <td>-1.353017</td>\n",
              "      <td>0.885797</td>\n",
              "      <td>Debit</td>\n",
              "      <td>Online</td>\n",
              "      <td>Student</td>\n",
              "      <td>0</td>\n",
              "    </tr>\n",
              "    <tr>\n",
              "      <th>4</th>\n",
              "      <td>-1.076900</td>\n",
              "      <td>-1.049768</td>\n",
              "      <td>1.120184</td>\n",
              "      <td>0.593589</td>\n",
              "      <td>Credit</td>\n",
              "      <td>Online</td>\n",
              "      <td>Student</td>\n",
              "      <td>1</td>\n",
              "    </tr>\n",
              "  </tbody>\n",
              "</table>\n",
              "</div>\n",
              "    <div class=\"colab-df-buttons\">\n",
              "\n",
              "  <div class=\"colab-df-container\">\n",
              "    <button class=\"colab-df-convert\" onclick=\"convertToInteractive('df-98cd6ee1-0cb6-49c7-b318-a04c6ec0909b')\"\n",
              "            title=\"Convert this dataframe to an interactive table.\"\n",
              "            style=\"display:none;\">\n",
              "\n",
              "  <svg xmlns=\"http://www.w3.org/2000/svg\" height=\"24px\" viewBox=\"0 -960 960 960\">\n",
              "    <path d=\"M120-120v-720h720v720H120Zm60-500h600v-160H180v160Zm220 220h160v-160H400v160Zm0 220h160v-160H400v160ZM180-400h160v-160H180v160Zm440 0h160v-160H620v160ZM180-180h160v-160H180v160Zm440 0h160v-160H620v160Z\"/>\n",
              "  </svg>\n",
              "    </button>\n",
              "\n",
              "  <style>\n",
              "    .colab-df-container {\n",
              "      display:flex;\n",
              "      gap: 12px;\n",
              "    }\n",
              "\n",
              "    .colab-df-convert {\n",
              "      background-color: #E8F0FE;\n",
              "      border: none;\n",
              "      border-radius: 50%;\n",
              "      cursor: pointer;\n",
              "      display: none;\n",
              "      fill: #1967D2;\n",
              "      height: 32px;\n",
              "      padding: 0 0 0 0;\n",
              "      width: 32px;\n",
              "    }\n",
              "\n",
              "    .colab-df-convert:hover {\n",
              "      background-color: #E2EBFA;\n",
              "      box-shadow: 0px 1px 2px rgba(60, 64, 67, 0.3), 0px 1px 3px 1px rgba(60, 64, 67, 0.15);\n",
              "      fill: #174EA6;\n",
              "    }\n",
              "\n",
              "    .colab-df-buttons div {\n",
              "      margin-bottom: 4px;\n",
              "    }\n",
              "\n",
              "    [theme=dark] .colab-df-convert {\n",
              "      background-color: #3B4455;\n",
              "      fill: #D2E3FC;\n",
              "    }\n",
              "\n",
              "    [theme=dark] .colab-df-convert:hover {\n",
              "      background-color: #434B5C;\n",
              "      box-shadow: 0px 1px 3px 1px rgba(0, 0, 0, 0.15);\n",
              "      filter: drop-shadow(0px 1px 2px rgba(0, 0, 0, 0.3));\n",
              "      fill: #FFFFFF;\n",
              "    }\n",
              "  </style>\n",
              "\n",
              "    <script>\n",
              "      const buttonEl =\n",
              "        document.querySelector('#df-98cd6ee1-0cb6-49c7-b318-a04c6ec0909b button.colab-df-convert');\n",
              "      buttonEl.style.display =\n",
              "        google.colab.kernel.accessAllowed ? 'block' : 'none';\n",
              "\n",
              "      async function convertToInteractive(key) {\n",
              "        const element = document.querySelector('#df-98cd6ee1-0cb6-49c7-b318-a04c6ec0909b');\n",
              "        const dataTable =\n",
              "          await google.colab.kernel.invokeFunction('convertToInteractive',\n",
              "                                                    [key], {});\n",
              "        if (!dataTable) return;\n",
              "\n",
              "        const docLinkHtml = 'Like what you see? Visit the ' +\n",
              "          '<a target=\"_blank\" href=https://colab.research.google.com/notebooks/data_table.ipynb>data table notebook</a>'\n",
              "          + ' to learn more about interactive tables.';\n",
              "        element.innerHTML = '';\n",
              "        dataTable['output_type'] = 'display_data';\n",
              "        await google.colab.output.renderOutput(dataTable, element);\n",
              "        const docLink = document.createElement('div');\n",
              "        docLink.innerHTML = docLinkHtml;\n",
              "        element.appendChild(docLink);\n",
              "      }\n",
              "    </script>\n",
              "  </div>\n",
              "\n",
              "\n",
              "<div id=\"df-22f73698-6231-4b8a-b08e-74e1c5f16eb1\">\n",
              "  <button class=\"colab-df-quickchart\" onclick=\"quickchart('df-22f73698-6231-4b8a-b08e-74e1c5f16eb1')\"\n",
              "            title=\"Suggest charts\"\n",
              "            style=\"display:none;\">\n",
              "\n",
              "<svg xmlns=\"http://www.w3.org/2000/svg\" height=\"24px\"viewBox=\"0 0 24 24\"\n",
              "     width=\"24px\">\n",
              "    <g>\n",
              "        <path d=\"M19 3H5c-1.1 0-2 .9-2 2v14c0 1.1.9 2 2 2h14c1.1 0 2-.9 2-2V5c0-1.1-.9-2-2-2zM9 17H7v-7h2v7zm4 0h-2V7h2v10zm4 0h-2v-4h2v4z\"/>\n",
              "    </g>\n",
              "</svg>\n",
              "  </button>\n",
              "\n",
              "<style>\n",
              "  .colab-df-quickchart {\n",
              "      --bg-color: #E8F0FE;\n",
              "      --fill-color: #1967D2;\n",
              "      --hover-bg-color: #E2EBFA;\n",
              "      --hover-fill-color: #174EA6;\n",
              "      --disabled-fill-color: #AAA;\n",
              "      --disabled-bg-color: #DDD;\n",
              "  }\n",
              "\n",
              "  [theme=dark] .colab-df-quickchart {\n",
              "      --bg-color: #3B4455;\n",
              "      --fill-color: #D2E3FC;\n",
              "      --hover-bg-color: #434B5C;\n",
              "      --hover-fill-color: #FFFFFF;\n",
              "      --disabled-bg-color: #3B4455;\n",
              "      --disabled-fill-color: #666;\n",
              "  }\n",
              "\n",
              "  .colab-df-quickchart {\n",
              "    background-color: var(--bg-color);\n",
              "    border: none;\n",
              "    border-radius: 50%;\n",
              "    cursor: pointer;\n",
              "    display: none;\n",
              "    fill: var(--fill-color);\n",
              "    height: 32px;\n",
              "    padding: 0;\n",
              "    width: 32px;\n",
              "  }\n",
              "\n",
              "  .colab-df-quickchart:hover {\n",
              "    background-color: var(--hover-bg-color);\n",
              "    box-shadow: 0 1px 2px rgba(60, 64, 67, 0.3), 0 1px 3px 1px rgba(60, 64, 67, 0.15);\n",
              "    fill: var(--button-hover-fill-color);\n",
              "  }\n",
              "\n",
              "  .colab-df-quickchart-complete:disabled,\n",
              "  .colab-df-quickchart-complete:disabled:hover {\n",
              "    background-color: var(--disabled-bg-color);\n",
              "    fill: var(--disabled-fill-color);\n",
              "    box-shadow: none;\n",
              "  }\n",
              "\n",
              "  .colab-df-spinner {\n",
              "    border: 2px solid var(--fill-color);\n",
              "    border-color: transparent;\n",
              "    border-bottom-color: var(--fill-color);\n",
              "    animation:\n",
              "      spin 1s steps(1) infinite;\n",
              "  }\n",
              "\n",
              "  @keyframes spin {\n",
              "    0% {\n",
              "      border-color: transparent;\n",
              "      border-bottom-color: var(--fill-color);\n",
              "      border-left-color: var(--fill-color);\n",
              "    }\n",
              "    20% {\n",
              "      border-color: transparent;\n",
              "      border-left-color: var(--fill-color);\n",
              "      border-top-color: var(--fill-color);\n",
              "    }\n",
              "    30% {\n",
              "      border-color: transparent;\n",
              "      border-left-color: var(--fill-color);\n",
              "      border-top-color: var(--fill-color);\n",
              "      border-right-color: var(--fill-color);\n",
              "    }\n",
              "    40% {\n",
              "      border-color: transparent;\n",
              "      border-right-color: var(--fill-color);\n",
              "      border-top-color: var(--fill-color);\n",
              "    }\n",
              "    60% {\n",
              "      border-color: transparent;\n",
              "      border-right-color: var(--fill-color);\n",
              "    }\n",
              "    80% {\n",
              "      border-color: transparent;\n",
              "      border-right-color: var(--fill-color);\n",
              "      border-bottom-color: var(--fill-color);\n",
              "    }\n",
              "    90% {\n",
              "      border-color: transparent;\n",
              "      border-bottom-color: var(--fill-color);\n",
              "    }\n",
              "  }\n",
              "</style>\n",
              "\n",
              "  <script>\n",
              "    async function quickchart(key) {\n",
              "      const quickchartButtonEl =\n",
              "        document.querySelector('#' + key + ' button');\n",
              "      quickchartButtonEl.disabled = true;  // To prevent multiple clicks.\n",
              "      quickchartButtonEl.classList.add('colab-df-spinner');\n",
              "      try {\n",
              "        const charts = await google.colab.kernel.invokeFunction(\n",
              "            'suggestCharts', [key], {});\n",
              "      } catch (error) {\n",
              "        console.error('Error during call to suggestCharts:', error);\n",
              "      }\n",
              "      quickchartButtonEl.classList.remove('colab-df-spinner');\n",
              "      quickchartButtonEl.classList.add('colab-df-quickchart-complete');\n",
              "    }\n",
              "    (() => {\n",
              "      let quickchartButtonEl =\n",
              "        document.querySelector('#df-22f73698-6231-4b8a-b08e-74e1c5f16eb1 button');\n",
              "      quickchartButtonEl.style.display =\n",
              "        google.colab.kernel.accessAllowed ? 'block' : 'none';\n",
              "    })();\n",
              "  </script>\n",
              "</div>\n",
              "\n",
              "    </div>\n",
              "  </div>\n"
            ],
            "application/vnd.google.colaboratory.intrinsic+json": {
              "type": "dataframe",
              "variable_name": "df",
              "summary": "{\n  \"name\": \"df\",\n  \"rows\": 2512,\n  \"fields\": [\n    {\n      \"column\": \"TransactionAmount\",\n      \"properties\": {\n        \"dtype\": \"number\",\n        \"std\": 1.0001991040338305,\n        \"min\": -1.1292378208433709,\n        \"max\": 2.494449704715067,\n        \"num_unique_values\": 2343,\n        \"samples\": [\n          0.0619908324116497,\n          0.4052214993000254,\n          -0.5923298261998317\n        ],\n        \"semantic_type\": \"\",\n        \"description\": \"\"\n      }\n    },\n    {\n      \"column\": \"CustomerAge\",\n      \"properties\": {\n        \"dtype\": \"number\",\n        \"std\": 1.000199104033829,\n        \"min\": -1.4994929555486702,\n        \"max\": 1.985874268822229,\n        \"num_unique_values\": 63,\n        \"samples\": [\n          1.592365066070676,\n          1.817227467642992,\n          1.4237182648914388\n        ],\n        \"semantic_type\": \"\",\n        \"description\": \"\"\n      }\n    },\n    {\n      \"column\": \"TransactionDuration\",\n      \"properties\": {\n        \"dtype\": \"number\",\n        \"std\": 1.000199104033828,\n        \"min\": -1.5674564567156437,\n        \"max\": 2.578372082511918,\n        \"num_unique_values\": 288,\n        \"samples\": [\n          0.2624264847365218,\n          -1.1814655237530771,\n          -0.6954028674298458\n        ],\n        \"semantic_type\": \"\",\n        \"description\": \"\"\n      }\n    },\n    {\n      \"column\": \"AccountBalance\",\n      \"properties\": {\n        \"dtype\": \"number\",\n        \"std\": 1.000199104033831,\n        \"min\": -1.2853435000548166,\n        \"max\": 2.5290429011249755,\n        \"num_unique_values\": 2510,\n        \"samples\": [\n          -0.7936592948981471,\n          -0.3751719749333146,\n          0.073365348339922\n        ],\n        \"semantic_type\": \"\",\n        \"description\": \"\"\n      }\n    },\n    {\n      \"column\": \"TransactionType\",\n      \"properties\": {\n        \"dtype\": \"category\",\n        \"num_unique_values\": 2,\n        \"samples\": [\n          \"Credit\",\n          \"Debit\"\n        ],\n        \"semantic_type\": \"\",\n        \"description\": \"\"\n      }\n    },\n    {\n      \"column\": \"Channel\",\n      \"properties\": {\n        \"dtype\": \"category\",\n        \"num_unique_values\": 3,\n        \"samples\": [\n          \"ATM\",\n          \"Online\"\n        ],\n        \"semantic_type\": \"\",\n        \"description\": \"\"\n      }\n    },\n    {\n      \"column\": \"CustomerOccupation\",\n      \"properties\": {\n        \"dtype\": \"category\",\n        \"num_unique_values\": 4,\n        \"samples\": [\n          \"Student\",\n          \"Engineer\"\n        ],\n        \"semantic_type\": \"\",\n        \"description\": \"\"\n      }\n    },\n    {\n      \"column\": \"Cluster\",\n      \"properties\": {\n        \"dtype\": \"number\",\n        \"std\": 1,\n        \"min\": 0,\n        \"max\": 3,\n        \"num_unique_values\": 4,\n        \"samples\": [\n          1,\n          3\n        ],\n        \"semantic_type\": \"\",\n        \"description\": \"\"\n      }\n    }\n  ]\n}"
            }
          },
          "metadata": {},
          "execution_count": 2
        }
      ]
    },
    {
      "cell_type": "code",
      "source": [
        "df.info()"
      ],
      "metadata": {
        "colab": {
          "base_uri": "https://localhost:8080/"
        },
        "id": "t4SvhYsWwSLz",
        "outputId": "68abbb23-d04e-435f-cdda-3812584b673d"
      },
      "execution_count": 3,
      "outputs": [
        {
          "output_type": "stream",
          "name": "stdout",
          "text": [
            "<class 'pandas.core.frame.DataFrame'>\n",
            "RangeIndex: 2512 entries, 0 to 2511\n",
            "Data columns (total 8 columns):\n",
            " #   Column               Non-Null Count  Dtype  \n",
            "---  ------               --------------  -----  \n",
            " 0   TransactionAmount    2512 non-null   float64\n",
            " 1   CustomerAge          2512 non-null   float64\n",
            " 2   TransactionDuration  2512 non-null   float64\n",
            " 3   AccountBalance       2512 non-null   float64\n",
            " 4   TransactionType      2512 non-null   object \n",
            " 5   Channel              2512 non-null   object \n",
            " 6   CustomerOccupation   2512 non-null   object \n",
            " 7   Cluster              2512 non-null   int64  \n",
            "dtypes: float64(4), int64(1), object(3)\n",
            "memory usage: 157.1+ KB\n"
          ]
        }
      ]
    },
    {
      "cell_type": "markdown",
      "source": [
        "# **3. Data Splitting**"
      ],
      "metadata": {
        "id": "KkPem5eWL2UP"
      }
    },
    {
      "cell_type": "markdown",
      "source": [
        "Tahap Data Splitting bertujuan untuk memisahkan dataset menjadi dua bagian: data latih (training set) dan data uji (test set)."
      ],
      "metadata": {
        "id": "YYj1rl_JNI9Y"
      }
    },
    {
      "cell_type": "code",
      "source": [
        "# Memisahkan fitur & target\n",
        "X = df.drop(columns=['Cluster'])\n",
        "y = df['Cluster']\n",
        "\n",
        "# Encode fitur kategorikal\n",
        "categorical_cols = ['TransactionType', 'Channel', 'CustomerOccupation']\n",
        "le_dict = {}\n",
        "\n",
        "for col in categorical_cols:\n",
        "    le = LabelEncoder()\n",
        "    X[col] = le.fit_transform(X[col])\n",
        "    le_dict[col] = le\n",
        "\n",
        "# Split data (80% train dan 20% test)\n",
        "X_train, X_test, y_train, y_test = train_test_split(X, y, test_size=0.2, random_state=42, stratify=y)\n",
        "\n",
        "print(f\"Train size: {X_train.shape}, Test size: {X_test.shape}\")"
      ],
      "metadata": {
        "id": "OubAW-7ONKVj",
        "colab": {
          "base_uri": "https://localhost:8080/"
        },
        "outputId": "63a2f417-50f5-43de-84af-753bd34f5e2e"
      },
      "execution_count": 4,
      "outputs": [
        {
          "output_type": "stream",
          "name": "stdout",
          "text": [
            "Train size: (2009, 7), Test size: (503, 7)\n"
          ]
        }
      ]
    },
    {
      "cell_type": "markdown",
      "source": [
        "# **4. Membangun Model Klasifikasi**\n"
      ],
      "metadata": {
        "id": "IVPbB03CMhTT"
      }
    },
    {
      "cell_type": "markdown",
      "source": [
        "## **a. Membangun Model Klasifikasi**"
      ],
      "metadata": {
        "id": "Ned1pL9zMmBK"
      }
    },
    {
      "cell_type": "markdown",
      "source": [
        "Setelah memilih algoritma klasifikasi yang sesuai, langkah selanjutnya adalah melatih model menggunakan data latih.\n",
        "\n",
        "Berikut adalah rekomendasi tahapannya.\n",
        "1. Pilih algoritma klasifikasi yang sesuai, seperti Logistic Regression, Decision Tree, Random Forest, atau K-Nearest Neighbors (KNN).\n",
        "2. Latih model menggunakan data latih."
      ],
      "metadata": {
        "id": "WAWzPOE4Nkti"
      }
    },
    {
      "cell_type": "code",
      "source": [
        "# Mendefinisikan model\n",
        "models = {\n",
        "    \"KNN\": KNeighborsClassifier(),\n",
        "    \"Decision Tree\": DecisionTreeClassifier(random_state=42),\n",
        "    \"Random Forest\": RandomForestClassifier(random_state=42),\n",
        "    \"SVM\": SVC(),\n",
        "    \"Naive Bayes\": GaussianNB()\n",
        "}\n",
        "\n",
        "results = {}\n",
        "\n",
        "# Looping training & evaluasi\n",
        "for name, model in models.items():\n",
        "    model.fit(X_train, y_train)  # Training\n",
        "    y_pred = model.predict(X_test)  # Prediksi\n",
        "\n",
        "    # Evaluasi\n",
        "    acc = accuracy_score(y_test, y_pred)\n",
        "    results[name] = acc\n",
        "    print(f\"{name} Accuracy: {acc:.4f}\")\n",
        "    print(classification_report(y_test, y_pred))\n",
        "    print(\"-\" * 50)\n",
        "\n",
        "# Membandingkan hasil akurasi tiap model\n",
        "print(\"\\nHasil perbandingan akurasi:\")\n",
        "for name, acc in sorted(results.items(), key=lambda x: x[1], reverse=True):\n",
        "    print(f\"{name}: {acc:.4f}\")"
      ],
      "metadata": {
        "id": "4JYxBe87NLDk",
        "colab": {
          "base_uri": "https://localhost:8080/"
        },
        "outputId": "964d6629-e4c0-44cb-dd7f-4656991174c3"
      },
      "execution_count": 5,
      "outputs": [
        {
          "output_type": "stream",
          "name": "stdout",
          "text": [
            "KNN Accuracy: 0.9225\n",
            "              precision    recall  f1-score   support\n",
            "\n",
            "           0       0.88      0.93      0.90       168\n",
            "           1       0.99      0.99      0.99       128\n",
            "           2       0.91      0.97      0.94        92\n",
            "           3       0.92      0.80      0.86       115\n",
            "\n",
            "    accuracy                           0.92       503\n",
            "   macro avg       0.93      0.92      0.92       503\n",
            "weighted avg       0.92      0.92      0.92       503\n",
            "\n",
            "--------------------------------------------------\n",
            "Decision Tree Accuracy: 0.9443\n",
            "              precision    recall  f1-score   support\n",
            "\n",
            "           0       0.95      0.95      0.95       168\n",
            "           1       0.99      1.00      1.00       128\n",
            "           2       0.92      0.90      0.91        92\n",
            "           3       0.90      0.90      0.90       115\n",
            "\n",
            "    accuracy                           0.94       503\n",
            "   macro avg       0.94      0.94      0.94       503\n",
            "weighted avg       0.94      0.94      0.94       503\n",
            "\n",
            "--------------------------------------------------\n",
            "Random Forest Accuracy: 0.9722\n",
            "              precision    recall  f1-score   support\n",
            "\n",
            "           0       0.96      0.98      0.97       168\n",
            "           1       0.99      1.00      1.00       128\n",
            "           2       0.97      0.98      0.97        92\n",
            "           3       0.96      0.93      0.95       115\n",
            "\n",
            "    accuracy                           0.97       503\n",
            "   macro avg       0.97      0.97      0.97       503\n",
            "weighted avg       0.97      0.97      0.97       503\n",
            "\n",
            "--------------------------------------------------\n",
            "SVM Accuracy: 0.9702\n",
            "              precision    recall  f1-score   support\n",
            "\n",
            "           0       0.98      0.96      0.97       168\n",
            "           1       0.99      1.00      1.00       128\n",
            "           2       0.93      0.99      0.96        92\n",
            "           3       0.97      0.93      0.95       115\n",
            "\n",
            "    accuracy                           0.97       503\n",
            "   macro avg       0.97      0.97      0.97       503\n",
            "weighted avg       0.97      0.97      0.97       503\n",
            "\n",
            "--------------------------------------------------\n",
            "Naive Bayes Accuracy: 0.9125\n",
            "              precision    recall  f1-score   support\n",
            "\n",
            "           0       0.90      0.92      0.91       168\n",
            "           1       0.99      1.00      1.00       128\n",
            "           2       0.84      0.95      0.89        92\n",
            "           3       0.91      0.78      0.84       115\n",
            "\n",
            "    accuracy                           0.91       503\n",
            "   macro avg       0.91      0.91      0.91       503\n",
            "weighted avg       0.91      0.91      0.91       503\n",
            "\n",
            "--------------------------------------------------\n",
            "\n",
            "Hasil perbandingan akurasi:\n",
            "Random Forest: 0.9722\n",
            "SVM: 0.9702\n",
            "Decision Tree: 0.9443\n",
            "KNN: 0.9225\n",
            "Naive Bayes: 0.9125\n"
          ]
        }
      ]
    },
    {
      "cell_type": "markdown",
      "source": [
        "Dalam percobaan ini, saya mencoba beberapa algoritma machine learning untuk membandingkan performanya dalam klasifikasi. KNN dipilih karena sederhana dan efektif untuk data kecil. Decision Tree dicoba karena mudah diinterpretasi dan bisa menangani fitur dengan hubungan kompleks. Random Forest digunakan untuk mengatasi overfitting yang sering terjadi di Decision Tree dengan metode ensemble. SVM dipilih karena kemampuannya menangani data dengan dimensi tinggi dan memisahkan kelas dengan margin maksimal. Naive Bayes diuji karena efisien dalam data berbasis probabilitas. Dari hasil evaluasi, **model terbaik yang dipilih adalah SVM** karena berdasarkan akurasi dan F1-score tertinggi."
      ],
      "metadata": {
        "id": "seYoHNY3XU1y"
      }
    },
    {
      "cell_type": "markdown",
      "source": [
        "## **b. Evaluasi Model Klasifikasi**"
      ],
      "metadata": {
        "id": "ergzChZFEL-O"
      }
    },
    {
      "cell_type": "markdown",
      "source": [
        "Berikut adalah **rekomendasi** tahapannya.\n",
        "1. Lakukan prediksi menggunakan data uji.\n",
        "2. Hitung metrik evaluasi seperti Accuracy dan F1-Score (Opsional: Precision dan Recall).\n",
        "3. Buat confusion matrix untuk melihat detail prediksi benar dan salah."
      ],
      "metadata": {
        "id": "zOm68u-7NpLT"
      }
    },
    {
      "cell_type": "code",
      "source": [
        "# Definisikan setiap klasifikasi secara terpisah\n",
        "knn = KNeighborsClassifier().fit(X_train, y_train)\n",
        "dt = DecisionTreeClassifier().fit(X_train, y_train)\n",
        "rf = RandomForestClassifier().fit(X_train, y_train)\n",
        "svm = SVC().fit(X_train, y_train)\n",
        "nb = GaussianNB().fit(X_train, y_train)\n",
        "\n",
        "print(\"Model training selesai.\")"
      ],
      "metadata": {
        "colab": {
          "base_uri": "https://localhost:8080/"
        },
        "id": "K9x2wixngbFW",
        "outputId": "147e3630-278e-40e7-db46-0017589b0b85"
      },
      "execution_count": 18,
      "outputs": [
        {
          "output_type": "stream",
          "name": "stdout",
          "text": [
            "Model training selesai.\n"
          ]
        }
      ]
    },
    {
      "cell_type": "code",
      "source": [
        "# Fungsi evaluasi model\n",
        "def evaluate_model(model, X_test, y_test):\n",
        "    y_pred = model.predict(X_test)\n",
        "\n",
        "    results = {\n",
        "        'Confusion Matrix': confusion_matrix(y_test, y_pred),\n",
        "        'Accuracy': accuracy_score(y_test, y_pred),\n",
        "        'Precision': precision_score(y_test, y_pred, average='weighted'),\n",
        "        'Recall': recall_score(y_test, y_pred, average='weighted'),\n",
        "        'F1-Score': f1_score(y_test, y_pred, average='weighted')\n",
        "    }\n",
        "    return results\n",
        "\n",
        "# Evaluasi semua model\n",
        "models = {\n",
        "    'K-Nearest Neighbors (KNN)': knn,\n",
        "    'Decision Tree (DT)': dt,\n",
        "    'Random Forest (RF)': rf,\n",
        "    'Support Vector Machine (SVM)': svm,\n",
        "    'Naive Bayes (NB)': nb\n",
        "}\n",
        "\n",
        "results = {name: evaluate_model(model, X_test, y_test) for name, model in models.items()}\n",
        "\n",
        "# Simpan hasil evaluasi dalam DataFrame\n",
        "summary_df = pd.DataFrame([\n",
        "    {\n",
        "        'Model': model_name,\n",
        "        'Accuracy': metrics['Accuracy'],\n",
        "        'Precision': metrics['Precision'],\n",
        "        'Recall': metrics['Recall'],\n",
        "        'F1-Score': metrics['F1-Score']\n",
        "    }\n",
        "    for model_name, metrics in results.items()\n",
        "])\n",
        "\n",
        "# Cetak hasil\n",
        "print(tabulate(summary_df, headers=\"keys\", tablefmt=\"pretty\"))\n"
      ],
      "metadata": {
        "colab": {
          "base_uri": "https://localhost:8080/"
        },
        "id": "_W-_qNWKb622",
        "outputId": "112e4ede-164e-4507-90d9-1b45b9590aba"
      },
      "execution_count": 31,
      "outputs": [
        {
          "output_type": "stream",
          "name": "stdout",
          "text": [
            "+---+------------------------------+--------------------+--------------------+--------------------+--------------------+\n",
            "|   |            Model             |      Accuracy      |     Precision      |       Recall       |      F1-Score      |\n",
            "+---+------------------------------+--------------------+--------------------+--------------------+--------------------+\n",
            "| 0 |  K-Nearest Neighbors (KNN)   | 0.9224652087475149 | 0.9232978469549359 | 0.9224652087475149 | 0.921547739797181  |\n",
            "| 1 |      Decision Tree (DT)      | 0.9423459244532804 | 0.9427158706414936 | 0.9423459244532804 | 0.9424157015724742 |\n",
            "| 2 |      Random Forest (RF)      | 0.9622266401590457 | 0.9623771712433583 | 0.9622266401590457 | 0.962214059287487  |\n",
            "| 3 | Support Vector Machine (SVM) | 0.9701789264413518 | 0.9706794571751649 | 0.9701789264413518 | 0.9701314094886339 |\n",
            "| 4 |       Naive Bayes (NB)       | 0.9125248508946322 | 0.9141411343121523 | 0.9125248508946322 | 0.9116134294577668 |\n",
            "+---+------------------------------+--------------------+--------------------+--------------------+--------------------+\n"
          ]
        }
      ]
    },
    {
      "cell_type": "code",
      "source": [
        "import matplotlib.pyplot as plt\n",
        "import seaborn as sns\n",
        "from sklearn.metrics import confusion_matrix, accuracy_score, f1_score, precision_score, recall_score\n",
        "\n",
        "# Looping untuk evaluasi tiap model\n",
        "for model_name, model in zip([\"KNN\", \"Decision Tree\", \"Random Forest\", \"SVM\", \"Naive Bayes\"],\n",
        "                             [knn, dt, rf, svm, nb]):\n",
        "\n",
        "    print(f\"\\nEvaluasi Model {model_name} pada Data Pengujian \")\n",
        "\n",
        "    # Prediksi dengan model\n",
        "    y_pred = model.predict(X_test)\n",
        "\n",
        "    # Hitung metrik evaluasi\n",
        "    accuracy = accuracy_score(y_test, y_pred)\n",
        "    f1 = f1_score(y_test, y_pred, average='weighted')\n",
        "    precision = precision_score(y_test, y_pred, average='weighted')\n",
        "    recall = recall_score(y_test, y_pred, average='weighted')\n",
        "\n",
        "    print(f\"Akurasi: {accuracy:.4f}\")\n",
        "    print(f\"F1-Score: {f1:.4f}\")\n",
        "    print(f\"Presisi: {precision:.4f}\")\n",
        "    print(f\"Recall: {recall:.4f}\")\n",
        "\n",
        "    # Confusion Matrix\n",
        "    cm = confusion_matrix(y_test, y_pred)\n",
        "    print(\"\\nConfusion Matrix:\")\n",
        "    print(cm)\n",
        "\n",
        "    # Visualisasi Confusion Matrix\n",
        "    plt.figure(figsize=(6, 5))\n",
        "    sns.heatmap(cm, annot=True, fmt='d', cmap='Blues', cbar=False)\n",
        "    plt.title(f'Confusion Matrix - {model_name}')\n",
        "    plt.xlabel('Predicted')\n",
        "    plt.ylabel('Actual')\n",
        "    plt.show()\n"
      ],
      "metadata": {
        "colab": {
          "base_uri": "https://localhost:8080/",
          "height": 1000
        },
        "id": "dlSAO0Ut3kOJ",
        "outputId": "f6f5fa57-ad48-4a30-d556-e065258e063b"
      },
      "execution_count": 32,
      "outputs": [
        {
          "output_type": "stream",
          "name": "stdout",
          "text": [
            "\n",
            "Evaluasi Model KNN pada Data Pengujian \n",
            "Akurasi: 0.9225\n",
            "F1-Score: 0.9215\n",
            "Presisi: 0.9233\n",
            "Recall: 0.9225\n",
            "\n",
            "Confusion Matrix:\n",
            "[[156   0   5   7]\n",
            " [  1 127   0   0]\n",
            " [  2   0  89   1]\n",
            " [ 18   1   4  92]]\n"
          ]
        },
        {
          "output_type": "display_data",
          "data": {
            "text/plain": [
              "<Figure size 600x500 with 1 Axes>"
            ],
            "image/png": "[encoded data removed]"
          },
          "metadata": {}
        },
        {
          "output_type": "stream",
          "name": "stdout",
          "text": [
            "\n",
            "Evaluasi Model Decision Tree pada Data Pengujian \n",
            "Akurasi: 0.9423\n",
            "F1-Score: 0.9424\n",
            "Presisi: 0.9427\n",
            "Recall: 0.9423\n",
            "\n",
            "Confusion Matrix:\n",
            "[[157   0   3   8]\n",
            " [  0 128   0   0]\n",
            " [  4   0  83   5]\n",
            " [  3   1   5 106]]\n"
          ]
        },
        {
          "output_type": "display_data",
          "data": {
            "text/plain": [
              "<Figure size 600x500 with 1 Axes>"
            ],
            "image/png": "[encoded data removed]"
          },
          "metadata": {}
        },
        {
          "output_type": "stream",
          "name": "stdout",
          "text": [
            "\n",
            "Evaluasi Model Random Forest pada Data Pengujian \n",
            "Akurasi: 0.9622\n",
            "F1-Score: 0.9622\n",
            "Presisi: 0.9624\n",
            "Recall: 0.9622\n",
            "\n",
            "Confusion Matrix:\n",
            "[[163   0   3   2]\n",
            " [  0 128   0   0]\n",
            " [  1   0  87   4]\n",
            " [  3   1   5 106]]\n"
          ]
        },
        {
          "output_type": "display_data",
          "data": {
            "text/plain": [
              "<Figure size 600x500 with 1 Axes>"
            ],
            "image/png": "[encoded data removed]"
          },
          "metadata": {}
        },
        {
          "output_type": "stream",
          "name": "stdout",
          "text": [
            "\n",
            "Evaluasi Model SVM pada Data Pengujian \n",
            "Akurasi: 0.9702\n",
            "F1-Score: 0.9701\n",
            "Presisi: 0.9707\n",
            "Recall: 0.9702\n",
            "\n",
            "Confusion Matrix:\n",
            "[[162   0   3   3]\n",
            " [  0 128   0   0]\n",
            " [  1   0  91   0]\n",
            " [  3   1   4 107]]\n"
          ]
        },
        {
          "output_type": "display_data",
          "data": {
            "text/plain": [
              "<Figure size 600x500 with 1 Axes>"
            ],
            "image/png": "[encoded data removed]"
          },
          "metadata": {}
        },
        {
          "output_type": "stream",
          "name": "stdout",
          "text": [
            "\n",
            "Evaluasi Model Naive Bayes pada Data Pengujian \n",
            "Akurasi: 0.9125\n",
            "F1-Score: 0.9116\n",
            "Presisi: 0.9141\n",
            "Recall: 0.9125\n",
            "\n",
            "Confusion Matrix:\n",
            "[[154   0   6   8]\n",
            " [  0 128   0   0]\n",
            " [  4   0  87   1]\n",
            " [ 13   1  11  90]]\n"
          ]
        },
        {
          "output_type": "display_data",
          "data": {
            "text/plain": [
              "<Figure size 600x500 with 1 Axes>"
            ],
            "image/png": "[encoded data removed]"
          },
          "metadata": {}
        }
      ]
    },
    {
      "cell_type": "markdown",
      "source": [
        "Tulis hasil evaluasi algoritma yang digunakan, jika Anda menggunakan 2 algoritma, maka bandingkan hasilnya.\n",
        "\n",
        "1. Evaluasi Model KNN\n",
        "- Akurasi: 0.9225\n",
        "- F1-Score: 0.9215\n",
        "- Presisi: 0.9233\n",
        "- Recall: 0.9225\n",
        "- Analisis: <br> Model KNN memiliki performa yang cukup baik dengan akurasi di atas 90%. Namun, confusion matrix menunjukkan adanya 18 false negative pada kelas 3, yang berarti banyak sampel kelas 3 diklasifikasikan sebagai kelas lain. Hal ini menunjukkan bahwa model kesulitan mengenali kelas tersebut dan menyebabkan masalah dalam klasifikasi kelas.\n",
        "\n",
        "2. Evaluasi Model Decision Tree\n",
        "- Akurasi: 0.9423\n",
        "- F1-Score: 0.9424\n",
        "- Presisi: 0.9427\n",
        "- Recall: 0.9423\n",
        "- Analisis: <br>\n",
        "Model Decision Tree menunjukkan peningkatan akurasi dibanding KNN, yaitu sekitar 94%. Namun, model ini masih mengalami kesalahan dalam mengklasifikasikan kelas tertentu. Misalnya, kelas 2 dan 3 memiliki beberapa misclassification yang menyebabkan penurunan recall. Meskipun begitu, keseimbangan antara precision dan recall cukup baik, yang menunjukkan bahwa model mampu menangani variasi dalam data dengan lebih stabil dibanding KNN.\n",
        "\n",
        "3. Evaluasi Model Random Forest\n",
        "- Akurasi: 0.9622\n",
        "- F1-Score: 0.9622\n",
        "- Presisi: 0.9624\n",
        "- Recall: 0.9622\n",
        "- Analisis: <br>\n",
        "Random Forest menunjukkan performa yang lebih baik dibanding Decision Tree, dengan akurasi sekitar 96%. Model ini lebih stabil dalam mengklasifikasikan kelas, dengan jumlah kesalahan yang lebih sedikit dibandingkan model sebelumnya. False negative di kelas 3 masih ada, tetapi jumlahnya lebih kecil dibanding model lain, menunjukkan bahwa model ini memiliki generalisasi yang lebih baik terhadap dataset.\n",
        "\n",
        "4. Evaluasi Model SVM\n",
        "- Akurasi: 0.9702\n",
        "- F1-Score: 0.9701\n",
        "- Presisi: 0.9707\n",
        "- Recall: 0.9702\n",
        "- Analisis: <br> Model SVM memiliki akurasi tertinggi dibandingkan model lain, yaitu sekitar 97%. Confusion matrix menunjukkan bahwa model ini mampu mengklasifikasikan sebagian besar kelas dengan baik. Namun, masih ada sedikit kesalahan pada kelas 3, di mana terdapat beberapa false negative dan false positive. Meskipun begitu, presisi dan recall-nya tetap tinggi, menunjukkan bahwa model ini mampu menangani data dengan baik dan memiliki generalisasi yang lebih baik dibandingkan model lainnya.\n",
        "\n",
        "5. Evaluasi Model Naive Bayes\n",
        "- Akurasi: 0.9125\n",
        "- F1-Score: 0.9116\n",
        "- Presisi: 0.9141\n",
        "- Recall: 0.9125\n",
        "- Analisis: <br>\n",
        "Model Naive Bayes memiliki performa terendah dibandingkan model lain, dengan akurasi dan f1-score di bawah 92%. Confusion matrix menunjukkan cukup banyak kesalahan klasifikasi, terutama pada kelas 3, di mana terdapat 13 false negative dan 11 false positive.\n",
        "<br><br>\n",
        "\n",
        "Dari hasil evaluasi, SVM menunjukkan performa terbaik dengan akurasi tertinggi dan jumlah kesalahan klasifikasi paling sedikit, membuatnya menjadi model yang paling optimal. Random Forest juga dapat menjadi alternatif karena akurasi hampir setara. Decision Tree lebih rentan terhadap overfitting, sementara KNN dan Naive Bayes memiliki kesulitan dalam membedakan kelas tertentu, terutama kelas 3."
      ],
      "metadata": {
        "id": "H4_9OwrsXZlz"
      }
    },
    {
      "cell_type": "markdown",
      "source": [
        "## **c. Tuning Model Klasifikasi (Optional)**"
      ],
      "metadata": {
        "id": "ph9yIYDXEPuB"
      }
    },
    {
      "cell_type": "markdown",
      "source": [
        "Gunakan GridSearchCV, RandomizedSearchCV, atau metode lainnya untuk mencari kombinasi hyperparameter terbaik"
      ],
      "metadata": {
        "id": "-Bikx3LINv5e"
      }
    },
    {
      "cell_type": "code",
      "source": [
        "start_time = time.time()\n",
        "\n",
        "# Definisi parameter grid untuk Grid Search\n",
        "param_grid = {\n",
        "    'C': [0.1, 1, 10],\n",
        "    'kernel': ['linear', 'rbf', 'poly'],\n",
        "    'gamma': ['scale', 'auto']\n",
        "}\n",
        "\n",
        "# Inisialisasi GridSearchCV dengan SVM\n",
        "svm = SVC()\n",
        "grid_search = GridSearchCV(estimator=svm, param_grid=param_grid, cv=3, n_jobs=-1, verbose=2)\n",
        "grid_search.fit(X_train, y_train)\n",
        "\n",
        "# Output hasil terbaik\n",
        "print(f\"Best parameters (Grid Search): {grid_search.best_params_}\")\n",
        "best_svm_grid = grid_search.best_estimator_\n",
        "\n",
        "# Evaluasi performa model setelah Grid Search\n",
        "from sklearn.metrics import f1_score, accuracy_score\n",
        "\n",
        "y_pred_grid = best_svm_grid.predict(X_test)\n",
        "\n",
        "# Hitung F1-Score setelah Grid Search\n",
        "f1_grid = f1_score(y_test, y_pred_grid, average='weighted')\n",
        "print(f\"F1-Score after Grid Search: {f1_grid:.4f}\")\n",
        "\n",
        "accuracy_grid = accuracy_score(y_test, y_pred_grid)\n",
        "print(f\"Accuracy after Grid Search: {accuracy_grid:.4f}\")\n",
        "\n",
        "end_time = time.time()\n",
        "execution_time = end_time - start_time\n",
        "print(f\"Waktu eksekusi: {execution_time:.4f} detik\")"
      ],
      "metadata": {
        "id": "winbFzb8NL95",
        "colab": {
          "base_uri": "https://localhost:8080/"
        },
        "outputId": "f04bee93-92e5-4ba2-e717-bfc5aec59062"
      },
      "execution_count": 34,
      "outputs": [
        {
          "output_type": "stream",
          "name": "stdout",
          "text": [
            "Fitting 3 folds for each of 18 candidates, totalling 54 fits\n",
            "Best parameters (Grid Search): {'C': 10, 'gamma': 'scale', 'kernel': 'linear'}\n",
            "F1-Score after Grid Search: 0.9881\n",
            "Accuracy after Grid Search: 0.9881\n",
            "Waktu eksekusi: 11.6339 detik\n"
          ]
        }
      ]
    },
    {
      "cell_type": "code",
      "source": [
        "start_time = time.time()\n",
        "\n",
        "# Definisikan ruang pencarian hyperparameter untuk SVM\n",
        "param_dist = {\n",
        "    'C': np.logspace(-3, 3, 10),\n",
        "    'gamma': ['scale', 'auto'] + list(np.logspace(-3, 3, 5)),\n",
        "    'kernel': ['linear', 'rbf', 'poly', 'sigmoid']\n",
        "}\n",
        "\n",
        "# Inisialisasi RandomizedSearchCV dengan SVM\n",
        "random_search = RandomizedSearchCV(\n",
        "    estimator=SVC(),\n",
        "    param_distributions=param_dist,\n",
        "    n_iter=10,\n",
        "    cv=3,\n",
        "    n_jobs=-1,\n",
        "    verbose=2,\n",
        "    random_state=42\n",
        ")\n",
        "\n",
        "random_search.fit(X_train, y_train)\n",
        "\n",
        "# Output hasil terbaik\n",
        "print(f\"Best parameters (Random Search): {random_search.best_params_}\")\n",
        "best_svm_random = random_search.best_estimator_\n",
        "\n",
        "# Evaluasi performa model setelah Random Search\n",
        "y_pred_random = best_svm_random.predict(X_test)\n",
        "random_search_accuracy = accuracy_score(y_test, y_pred_random)\n",
        "random_search_f1 = f1_score(y_test, y_pred_random, average='weighted')\n",
        "\n",
        "print(f\"Accuracy after Random Search: {random_search_accuracy:.4f}\")\n",
        "print(f\"F1-Score after Random Search: {random_search_f1:.4f}\")\n",
        "\n",
        "end_time = time.time()\n",
        "execution_time = end_time - start_time\n",
        "print(f\"Waktu eksekusi: {execution_time:.4f} detik\")\n"
      ],
      "metadata": {
        "colab": {
          "base_uri": "https://localhost:8080/"
        },
        "id": "pkiPSNsRPSdP",
        "outputId": "c8a4e719-e59f-4348-e09b-298806ff3928"
      },
      "execution_count": 35,
      "outputs": [
        {
          "output_type": "stream",
          "name": "stdout",
          "text": [
            "Fitting 3 folds for each of 10 candidates, totalling 30 fits\n",
            "Best parameters (Random Search): {'kernel': 'linear', 'gamma': np.float64(1.0), 'C': np.float64(215.44346900318823)}\n",
            "Accuracy after Random Search: 0.9901\n",
            "F1-Score after Random Search: 0.9901\n",
            "Waktu eksekusi: 1.9395 detik\n"
          ]
        }
      ]
    },
    {
      "cell_type": "markdown",
      "source": [
        "## **d. Evaluasi Model Klasifikasi setelah Tuning (Optional)**"
      ],
      "metadata": {
        "id": "hE7pqlEPEYzI"
      }
    },
    {
      "cell_type": "markdown",
      "source": [
        "Berikut adalah rekomendasi tahapannya.\n",
        "1. Gunakan model dengan hyperparameter terbaik.\n",
        "2. Hitung ulang metrik evaluasi untuk melihat apakah ada peningkatan performa."
      ],
      "metadata": {
        "id": "feaPESoeN0zz"
      }
    },
    {
      "cell_type": "markdown",
      "source": [
        "Dari hasil tuning:\n",
        "\n",
        "- Grid Search:\n",
        "  - Akurasi: 0.9881\n",
        "  - F1-Score: 0.9881\n",
        "- Randomized Search\n",
        "  - Akurasi: 0.9901\n",
        "  - F1-Score: 0.9901\n",
        "\n",
        "Karena Randomized Search lebih tinggi, maka model dari Randomized Search yang akan digunakan."
      ],
      "metadata": {
        "id": "K2AaaOiwYT7P"
      }
    },
    {
      "cell_type": "code",
      "source": [
        "# Menggunakan model terbaik dari Randomized Search\n",
        "best_model = random_search.best_estimator_\n",
        "\n",
        "# Prediksi ulang pada data uji\n",
        "y_pred_best = best_model.predict(X_test)\n",
        "\n",
        "# Confusion Matrix\n",
        "cm = confusion_matrix(y_test, y_pred_best)\n",
        "print(\"\\nConfusion Matrix:\")\n",
        "print(cm)\n",
        "\n",
        "# Visualisasi Confusion Matrix\n",
        "plt.figure(figsize=(8,6))\n",
        "sns.heatmap(cm, annot=True, fmt='d', cmap='Blues', linewidths=0.5)\n",
        "plt.title('Confusion Matrix - Best Model (Randomized Search)')\n",
        "plt.xlabel('Predicted')\n",
        "plt.ylabel('Actual')\n",
        "plt.show()"
      ],
      "metadata": {
        "id": "HTXZRvEeNMb1",
        "colab": {
          "base_uri": "https://localhost:8080/",
          "height": 668
        },
        "outputId": "9b6eed8d-ac86-4140-8551-2fa226050d44"
      },
      "execution_count": 37,
      "outputs": [
        {
          "output_type": "stream",
          "name": "stdout",
          "text": [
            "\n",
            "Confusion Matrix:\n",
            "[[165   0   2   1]\n",
            " [  1 127   0   0]\n",
            " [  0   0  92   0]\n",
            " [  0   0   1 114]]\n"
          ]
        },
        {
          "output_type": "display_data",
          "data": {
            "text/plain": [
              "<Figure size 800x600 with 2 Axes>"
            ],
            "image/png": "[encoded data removed]"
          },
          "metadata": {}
        }
      ]
    },
    {
      "cell_type": "markdown",
      "source": [
        "## **e. Analisis Hasil Evaluasi Model Klasifikasi**"
      ],
      "metadata": {
        "id": "ZRsOdm4uEgAW"
      }
    },
    {
      "cell_type": "markdown",
      "source": [
        "Berikut adalah **rekomendasi** tahapannya.\n",
        "1. Bandingkan hasil evaluasi sebelum dan setelah tuning (jika dilakukan).\n",
        "2. Identifikasi kelemahan model, seperti:\n",
        "  - Precision atau Recall rendah untuk kelas tertentu.\n",
        "  - Apakah model mengalami overfitting atau underfitting?\n",
        "3. Berikan rekomendasi tindakan lanjutan, seperti mengumpulkan data tambahan atau mencoba algoritma lain jika hasil belum memuaskan."
      ],
      "metadata": {
        "id": "Hm3BhSi6N4_l"
      }
    },
    {
      "cell_type": "markdown",
      "source": [
        "**1. Perbandingan Sebelum dan Setelah Tuning** <br>\n",
        "- Sebelum tuning, model SVM memiliki akurasi 97.02% dan F1-score 97.01%.\n",
        "- Setelah dilakukan hyperparameter tuning menggunakan Grid Search, akurasi meningkat menjadi 98.81% dan F1-score 98.81%.\n",
        "- Selain itu, tuning juga dilakukan menggunakan Randomized Search, menghasilkan akurasi 99.01% dan F1-score 99.01%.\n",
        "\n",
        "Model yang dipilih adalah hasil dari Randomized Search, karena memiliki tingkat akurasi dan F1-score yang lebih tinggi dibandingkan metode sebelumnya."
      ],
      "metadata": {
        "id": "UXgbKuTpZzwI"
      }
    },
    {
      "cell_type": "code",
      "source": [
        "# Evaluasi setelah tuning\n",
        "report = classification_report(y_test, y_pred_best)\n",
        "print(report)"
      ],
      "metadata": {
        "colab": {
          "base_uri": "https://localhost:8080/"
        },
        "id": "7IrYFtSHk8s2",
        "outputId": "74dadb20-bf3e-44e7-9579-63c9bd91f1b0"
      },
      "execution_count": 38,
      "outputs": [
        {
          "output_type": "stream",
          "name": "stdout",
          "text": [
            "              precision    recall  f1-score   support\n",
            "\n",
            "           0       0.99      0.98      0.99       168\n",
            "           1       1.00      0.99      1.00       128\n",
            "           2       0.97      1.00      0.98        92\n",
            "           3       0.99      0.99      0.99       115\n",
            "\n",
            "    accuracy                           0.99       503\n",
            "   macro avg       0.99      0.99      0.99       503\n",
            "weighted avg       0.99      0.99      0.99       503\n",
            "\n"
          ]
        }
      ]
    },
    {
      "cell_type": "markdown",
      "source": [
        "**2. Identifikasi kelemahan model**\n",
        "- Precision atau Recall Rendah untuk Kelas Tertentu:\n",
        "  - Kelas 2 memiliki precision sedikit lebih rendah dibanding kelas lain, yang berarti beberapa prediksi kelas 2 sebenarnya berasal dari kelas lain.\n",
        "  - Kelas 0 dan kelas 3 masih memiliki kesalahan klasifikasi kecil dalam confusion matrix, menunjukkan model belum sepenuhnya optimal dalam membedakan kedua kelas ini."
      ],
      "metadata": {
        "id": "1rzapD5Fq7_O"
      }
    },
    {
      "cell_type": "code",
      "source": [
        "# Menghitung akurasi model pada data training\n",
        "train_accuracy = best_model.score(X_train, y_train)\n",
        "\n",
        "# Menghitung akurasi model pada data testing\n",
        "test_accuracy = best_model.score(X_test, y_test)\n",
        "\n",
        "print(f\"Train Accuracy: {train_accuracy:.4f}\")\n",
        "print(f\"Test Accuracy: {test_accuracy:.4f}\")"
      ],
      "metadata": {
        "colab": {
          "base_uri": "https://localhost:8080/"
        },
        "id": "9TC_o1ixlGna",
        "outputId": "3482073a-e054-4f47-a398-3789c8558891"
      },
      "execution_count": 40,
      "outputs": [
        {
          "output_type": "stream",
          "name": "stdout",
          "text": [
            "Train Accuracy: 0.9990\n",
            "Test Accuracy: 0.9901\n"
          ]
        }
      ]
    },
    {
      "cell_type": "markdown",
      "source": [
        "  - Apakah model mengalami overfitting atau underfitting?\n",
        "\n",
        "Model ini menunjukkan sedikit overfitting, tetapi masih dalam batas wajar. Hal ini terlihat dari perbedaan antara akurasi training yang hampir sempurna (99.9%) dan akurasi testing yang juga sangat tinggi (99.01%). Meskipun terdapat sedikit gap, model tetap mampu melakukan generalisasi dengan baik pada data uji. Selain itu, precision, recall, dan f1-score yang hampir sempurna menunjukkan bahwa model bekerja stabil di semua kelas."
      ],
      "metadata": {
        "id": "ti4q1TwHoO5q"
      }
    },
    {
      "cell_type": "markdown",
      "source": [
        "**3. Rekomendasi Lanjutan** <br>\n",
        "- Menambah Data <br>\n",
        "Dataset masih kurang representatif karena hanya memiliki sekitar 2.000 baris. Menambah jumlah data dapat meningkatkan generalisasi model.\n",
        "- Feature Engineering <br>\n",
        "Evaluasi kembali fitur yang digunakan atau buat fitur baru yang lebih relevan untuk meningkatkan performa model.\n",
        "- Hyperparameter Tuning <br>\n",
        "Mencoba eksplorasi kombinasi parameter lain untuk pencarian yang lebih optimal.\n",
        "- Mengatasi Overfitting <br>\n",
        "Jika terdapat perbedaan yang signifikan antara akurasi pada data training dan testing, lebih baik mempertimbangkan untuk menambahkan regularisasi atau mengurangi kompleksitas model."
      ],
      "metadata": {
        "id": "oJaXm93ar5Fd"
      }
    }
  ]
}